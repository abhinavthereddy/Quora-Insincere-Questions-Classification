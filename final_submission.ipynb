{
 "cells": [
  {
   "cell_type": "code",
   "execution_count": 1,
   "metadata": {
    "_cell_guid": "b1076dfc-b9ad-4769-8c92-a6c4dae69d19",
    "_uuid": "8f2839f25d086af736a60e9eeb907d3b93b6e0e5"
   },
   "outputs": [
    {
     "name": "stderr",
     "output_type": "stream",
     "text": [
      "Using TensorFlow backend.\n"
     ]
    },
    {
     "data": {
      "text/plain": [
       "['/job:localhost/replica:0/task:0/device:GPU:0']"
      ]
     },
     "execution_count": 1,
     "metadata": {},
     "output_type": "execute_result"
    }
   ],
   "source": [
    "import numpy as np\n",
    "import pandas as pd\n",
    "from clean_question import Clean_Question\n",
    "import os\n",
    "import numpy as np\n",
    "import pandas as pd\n",
    "import string\n",
    "import json\n",
    "from sklearn.metrics import accuracy_score \n",
    "from keras.layers import Embedding\n",
    "from keras.models import *\n",
    "from keras.layers import *\n",
    "from keras.optimizers import SGD\n",
    "from keras.layers import Bidirectional\n",
    "from keras.preprocessing.text import Tokenizer\n",
    "from keras.preprocessing.sequence import pad_sequences\n",
    "from keras.utils.np_utils import to_categorical\n",
    "from sklearn.metrics import f1_score\n",
    "from keras import backend as K\n",
    "K.tensorflow_backend._get_available_gpus()"
   ]
  },
  {
   "cell_type": "code",
   "execution_count": 2,
   "metadata": {
    "_cell_guid": "79c7e3d0-c299-4dcb-8224-4455121ee9b0",
    "_uuid": "d629ff2d2480ee46fbb7e2d37f6b5fab8052498a"
   },
   "outputs": [],
   "source": [
    "# Loading Embeddings\n",
    "\n",
    "embeddings_index = {}\n",
    "f = open(r'embeddings/glove.840B.300d/glove.840B.300d.txt', encoding='utf8')\n",
    "for line in f:\n",
    "    values = line.split()\n",
    "    word = ''.join(values[:-300])\n",
    "    coefs = np.array([np.asarray(values[-300:], dtype='float32')])\n",
    "    embeddings_index[word] = coefs\n",
    "f.close()"
   ]
  },
  {
   "cell_type": "code",
   "execution_count": 3,
   "metadata": {
    "_uuid": "0593140804bf17b62d523d776117176066969661"
   },
   "outputs": [],
   "source": [
    "# Load train data, split train data, create a new balanced training data set.\n",
    "\n",
    "df = pd.read_csv('train.csv')\n",
    "df_1 = df.loc[df['target'] == 1]\n",
    "df_0 = df.loc[df['target'] == 0]\n",
    "frames = [df_1, df_0]\n",
    "result = pd.concat(frames)\n",
    "df_balanced = result.sample(frac=1).reset_index(drop=True)\n",
    "data = df_balanced['question_text'].values\n",
    "labels = df_balanced['target'].values"
   ]
  },
  {
   "cell_type": "code",
   "execution_count": 4,
   "metadata": {},
   "outputs": [
    {
     "data": {
      "text/html": [
       "<div>\n",
       "<style scoped>\n",
       "    .dataframe tbody tr th:only-of-type {\n",
       "        vertical-align: middle;\n",
       "    }\n",
       "\n",
       "    .dataframe tbody tr th {\n",
       "        vertical-align: top;\n",
       "    }\n",
       "\n",
       "    .dataframe thead th {\n",
       "        text-align: right;\n",
       "    }\n",
       "</style>\n",
       "<table border=\"1\" class=\"dataframe\">\n",
       "  <thead>\n",
       "    <tr style=\"text-align: right;\">\n",
       "      <th></th>\n",
       "      <th>qid</th>\n",
       "      <th>question_text</th>\n",
       "      <th>target</th>\n",
       "    </tr>\n",
       "  </thead>\n",
       "  <tbody>\n",
       "    <tr>\n",
       "      <th>0</th>\n",
       "      <td>4f5bd06fc5c0b6e52f99</td>\n",
       "      <td>why would you look shit up</td>\n",
       "      <td>0</td>\n",
       "    </tr>\n",
       "    <tr>\n",
       "      <th>1</th>\n",
       "      <td>7227f2a5d270bce15840</td>\n",
       "      <td>how do i create a whatsapp link</td>\n",
       "      <td>0</td>\n",
       "    </tr>\n",
       "    <tr>\n",
       "      <th>2</th>\n",
       "      <td>79224d84e10235f30d9c</td>\n",
       "      <td>what can or cannot be considered an intellectu...</td>\n",
       "      <td>0</td>\n",
       "    </tr>\n",
       "    <tr>\n",
       "      <th>3</th>\n",
       "      <td>57c9e9042a06f5659c42</td>\n",
       "      <td>what s the difference between  meaning of life...</td>\n",
       "      <td>0</td>\n",
       "    </tr>\n",
       "    <tr>\n",
       "      <th>4</th>\n",
       "      <td>653ef5a73f46c6f982a0</td>\n",
       "      <td>how is the usa exporting it s misogyny to the ...</td>\n",
       "      <td>1</td>\n",
       "    </tr>\n",
       "  </tbody>\n",
       "</table>\n",
       "</div>"
      ],
      "text/plain": [
       "                    qid                                      question_text  \\\n",
       "0  4f5bd06fc5c0b6e52f99                        why would you look shit up    \n",
       "1  7227f2a5d270bce15840                   how do i create a whatsapp link    \n",
       "2  79224d84e10235f30d9c  what can or cannot be considered an intellectu...   \n",
       "3  57c9e9042a06f5659c42  what s the difference between  meaning of life...   \n",
       "4  653ef5a73f46c6f982a0  how is the usa exporting it s misogyny to the ...   \n",
       "\n",
       "   target  \n",
       "0       0  \n",
       "1       0  \n",
       "2       0  \n",
       "3       0  \n",
       "4       1  "
      ]
     },
     "execution_count": 4,
     "metadata": {},
     "output_type": "execute_result"
    }
   ],
   "source": [
    "# Cleaning data\n",
    "\n",
    "clean_question = Clean_Question()\n",
    "df_balanced['question_text'] = clean_question.clean_df (df_balanced[\"question_text\"])\n",
    "df_balanced.head()"
   ]
  },
  {
   "cell_type": "code",
   "execution_count": 5,
   "metadata": {
    "_uuid": "ec1e2a4e114dd0350b0e46113ed6e6479876c7f4"
   },
   "outputs": [
    {
     "name": "stderr",
     "output_type": "stream",
     "text": [
      "/usr/local/lib/python3.6/dist-packages/keras_preprocessing/text.py:177: UserWarning: The `nb_words` argument in `Tokenizer` has been renamed `num_words`.\n",
      "  warnings.warn('The `nb_words` argument in `Tokenizer` '\n"
     ]
    }
   ],
   "source": [
    "# Creating a tokenizer\n",
    "\n",
    "MAX_NB_WORDS = 75000\n",
    "tokenizer = Tokenizer(nb_words=MAX_NB_WORDS)\n",
    "tokenizer.fit_on_texts(data)\n",
    "sequences = tokenizer.texts_to_sequences(data)\n",
    "word_index = tokenizer.word_index"
   ]
  },
  {
   "cell_type": "code",
   "execution_count": 6,
   "metadata": {},
   "outputs": [],
   "source": [
    "# Split into test, train, validation.\n",
    "\n",
    "MAX_SEQUENCE_LENGTH = 80\n",
    "data = pad_sequences(sequences, maxlen=MAX_SEQUENCE_LENGTH)\n",
    "VALIDATION_SPLIT = 0.2\n",
    "TEST_SPLIT = 0.2\n",
    "indices = np.arange(data.shape[0])\n",
    "np.random.shuffle(indices)\n",
    "data = data[indices]\n",
    "labels = labels[indices]\n",
    "nb_validation_samples = int(VALIDATION_SPLIT * data.shape[0])\n",
    "nb_test_samples = int(TEST_SPLIT * data.shape[0])\n",
    "\n",
    "x_val = data[:nb_validation_samples]\n",
    "y_val = labels[:nb_validation_samples]\n",
    "x_test = data[nb_validation_samples:nb_validation_samples+nb_test_samples]\n",
    "y_test = labels[nb_validation_samples:nb_validation_samples+nb_test_samples]\n",
    "x_train = data[nb_validation_samples+nb_test_samples:]\n",
    "y_train = labels[nb_validation_samples+nb_test_samples:]"
   ]
  },
  {
   "cell_type": "code",
   "execution_count": 7,
   "metadata": {
    "_uuid": "053668e7bc1240614b4805dd67f94d13eeebce80"
   },
   "outputs": [],
   "source": [
    "# Creating an embedding matrix\n",
    "\n",
    "EMBEDDING_DIM = 300\n",
    "embedding_matrix = np.zeros((len(word_index) + 1, EMBEDDING_DIM))\n",
    "for word, i in word_index.items():\n",
    "    embedding_vector = embeddings_index.get(word)\n",
    "    if embedding_vector is not None:\n",
    "        # words not found in embedding index will be all-zeros.\n",
    "        embedding_matrix[i] = embedding_vector"
   ]
  },
  {
   "cell_type": "code",
   "execution_count": 8,
   "metadata": {},
   "outputs": [
    {
     "name": "stdout",
     "output_type": "stream",
     "text": [
      "Train on 783674 samples, validate on 261224 samples\n",
      "Epoch 1/2\n",
      "783674/783674 [==============================] - 525s 670us/step - loss: 0.5640 - acc: 0.8701 - val_loss: 0.2632 - val_acc: 0.8908\n",
      "Epoch 2/2\n",
      "783674/783674 [==============================] - 599s 765us/step - loss: 0.4901 - acc: 0.8890 - val_loss: 0.2871 - val_acc: 0.8746\n"
     ]
    },
    {
     "data": {
      "text/plain": [
       "<keras.callbacks.History at 0x7fa8a4025da0>"
      ]
     },
     "execution_count": 8,
     "metadata": {},
     "output_type": "execute_result"
    }
   ],
   "source": [
    "# Creating a NN and fitting with train data.\n",
    "\n",
    "def create_conv_model():\n",
    "    model_conv = Sequential()\n",
    "    model_conv.add(Embedding(len(word_index) + 1,\n",
    "                            EMBEDDING_DIM,\n",
    "                            weights=[embedding_matrix],\n",
    "                            input_length=MAX_SEQUENCE_LENGTH,                            \n",
    "                            trainable=False))\n",
    "    model_conv.add(Dropout(0.2))\n",
    "    model_conv.add(Bidirectional(LSTM(100))) \n",
    "    model_conv.add(Dense(16, activation=\"relu\"))\n",
    "    model_conv.add(Dropout(0.1))\n",
    "    model_conv.add(Dense(1, activation='sigmoid'))\n",
    "    model_conv.compile(loss='binary_crossentropy', optimizer='adam', metrics=['accuracy'])\n",
    "    return model_conv\n",
    "\n",
    "class_weight = {0: 1.,\n",
    "                1: float(len(df_1)) / len(df_0)}\n",
    "\n",
    "model_conv = create_conv_model()\n",
    "model_conv.fit(x_train, y_train, validation_data=(x_val, y_val),\n",
    "          epochs=2, batch_size=512, class_weight = class_weight)"
   ]
  },
  {
   "cell_type": "code",
   "execution_count": 9,
   "metadata": {
    "_uuid": "5a9ec498f93468138e951691696ba7c4efd12858"
   },
   "outputs": [
    {
     "name": "stdout",
     "output_type": "stream",
     "text": [
      "Macro = 0.805915, Micro = 0.956141, Weighted = 0.955572, F1 = 0.976668, Accuracy = 0.956141\n"
     ]
    }
   ],
   "source": [
    "# Testing our model.\n",
    "\n",
    "threshold = 0.9\n",
    "preds = model_conv.predict(x_test)\n",
    "y_pred = []\n",
    "for i in preds:\n",
    "    if i > threshold:\n",
    "        y_pred.append(1)\n",
    "    else:\n",
    "        y_pred.append(0)\n",
    "        \n",
    "macro_f1 = f1_score(y_test, y_pred, average='macro')     \n",
    "micro_f1 = f1_score(y_test, y_pred, average='micro')  \n",
    "weighted_f1 = f1_score(y_test, y_pred, average='weighted')\n",
    "f1 = f1_score(y_test, y_pred, average=None)\n",
    "accuracy = accuracy_score(y_test, y_pred)\n",
    "print(\"Macro = %f, Micro = %f, Weighted = %f, F1 = %f, Accuracy = %f\" % (macro_f1, micro_f1, weighted_f1, f1[0], accuracy))"
   ]
  },
  {
   "cell_type": "code",
   "execution_count": 10,
   "metadata": {
    "_uuid": "4541f94529918b4144af3026df38e9d8899ef0db"
   },
   "outputs": [],
   "source": [
    "# Predicting classes for unclassified data.\n",
    "\n",
    "df_test = pd.read_csv('test.csv')\n",
    "df_test['question_text'] = clean_question.clean_df (df_test[\"question_text\"])\n",
    "y_pred_kaggle = []\n",
    "test_questions = df_test['question_text'].values\n",
    "sequences_pred_kaggle = tokenizer.texts_to_sequences(test_questions)\n",
    "data_pred_kaggle = pad_sequences(sequences_pred_kaggle, maxlen=MAX_SEQUENCE_LENGTH)\n",
    "kaggle_probabilities = model_conv.predict(data_pred_kaggle)\n",
    "\n",
    "for i in kaggle_probabilities:\n",
    "    if i > threshold:\n",
    "        y_pred_kaggle.append(1)\n",
    "    else:\n",
    "        y_pred_kaggle.append(0)\n",
    "        \n",
    "df_test = df_test.drop(['question_text'], axis=1)\n",
    "df_test['prediction'] = y_pred_kaggle\n",
    "df_test.head()\n",
    "export_csv = df_test.to_csv (r'submission.csv', index = None, header=True)"
   ]
  }
 ],
 "metadata": {
  "kernelspec": {
   "display_name": "Python 3",
   "language": "python",
   "name": "python3"
  },
  "language_info": {
   "codemirror_mode": {
    "name": "ipython",
    "version": 3
   },
   "file_extension": ".py",
   "mimetype": "text/x-python",
   "name": "python",
   "nbconvert_exporter": "python",
   "pygments_lexer": "ipython3",
   "version": "3.6.6"
  }
 },
 "nbformat": 4,
 "nbformat_minor": 1
}
